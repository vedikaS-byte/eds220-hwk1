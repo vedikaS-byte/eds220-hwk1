{
 "cells": [
  {
   "cell_type": "code",
   "execution_count": 76,
   "metadata": {
    "deletable": false,
    "editable": false,
    "tags": []
   },
   "outputs": [],
   "source": [
    "# Initialize Otter\n",
    "import otter\n",
    "grader = otter.Notebook(\"hwk1-task3-earthquakes.ipynb\")"
   ]
  },
  {
   "cell_type": "markdown",
   "metadata": {},
   "source": [
    "# Task 3: `pandas` fundamentals with earthquake data\n",
    "\n",
    "## Instructions\n",
    "- First, update the following cell to have a link to *your* Homework 1 GitHub repository:"
   ]
  },
  {
   "cell_type": "markdown",
   "metadata": {},
   "source": [
    "**UPDATE THIS LINK:**\n",
    "\n",
    "https://github.com/vedikaS-byte/eds220-hwk1"
   ]
  },
  {
   "cell_type": "markdown",
   "metadata": {},
   "source": [
    "- This task covers topics on the lessons on [subsetting `pandas.DataFrames`](https://meds-eds-220.github.io/MEDS-eds-220-course/book/chapters/lesson-3-pandas-subsetting/lesson-3-pandas-subsetting.html) and [plotting](). The best strategy to solve it is to get together with your classmates and work on it together after these lecture.\n",
    "\n",
    "- Review the [complete rubric for this task](https://docs.google.com/document/d/131OnUDOLpOl94SlaMU9nGqT998ABrjFS/edit?usp=sharing&ouid=111507336322611936333&rtpof=true&sd=true) before starting.\n",
    "\n",
    "- **Make at least 5 commits at moments you think are adequate.** We'll check your repository and view the commit history.\n",
    "\n",
    "- **Add comments for all your code.** Err on the side of commenting too much for now. Comments should follow best practices.\n",
    "\n",
    "\n",
    "## Acknowledgement\n",
    "This task was adapted from the *Pandas Fundamentals with Earthquake Data* assignment from the e-book [Earth and Environmental Data Science](https://earth-env-data-science.github.io/intro.html)"
   ]
  },
  {
   "cell_type": "markdown",
   "metadata": {},
   "source": [
    "## About the data\n",
    "\n",
    "For this task we are going to use simplified data from the [USGS Earthquakes Database](https://earthquake.usgs.gov/earthquakes/search/). This dataset is given in a single CSV file within the`data` folder (`data/earthquake_data.csv`) and has the following columns:\n",
    "\n",
    "- time = date and time of event (all events from 2014)\n",
    "- latitude = decimal degrees [-90,90]\n",
    "- longitude = decimal degrees [-360,360]\n",
    "- depth = depth of the event (km)\n",
    "- mag =  magnitude of event\n",
    "- id = event identifier\n",
    "- place = where the event took place\n",
    "- type = type of event"
   ]
  },
  {
   "cell_type": "markdown",
   "metadata": {
    "deletable": false,
    "editable": false
   },
   "source": [
    "<!-- BEGIN QUESTION -->\n",
    "\n",
    "## 1 \n",
    "\n",
    "a. Import pandas (always with standard abbreviation!).\n",
    "\n",
    "b. Use `pd.read_csv()` to import the `earthquake_data.csv` dataset and store it in the `raw_eqk` variable.\n"
   ]
  },
  {
   "cell_type": "code",
   "execution_count": 94,
   "metadata": {
    "tags": [
     "otter_answer_cell"
    ]
   },
   "outputs": [],
   "source": [
    "# Import pandas library with its abbreviation\n",
    "import pandas as pd\n",
    "# Read in the CSV file from data folder using pd.read_csv\n",
    "raw_eqk = pd.read_csv(\"data/earthquake_data.csv\")"
   ]
  },
  {
   "cell_type": "markdown",
   "metadata": {
    "deletable": false,
    "editable": false
   },
   "source": [
    "<!-- END QUESTION -->\n",
    "\n",
    "Look at the head of the dataframe. Store the result in the `raw_eqk_head` variable. "
   ]
  },
  {
   "cell_type": "code",
   "execution_count": 95,
   "metadata": {
    "tags": [
     "otter_answer_cell"
    ]
   },
   "outputs": [],
   "source": [
    "# Grab the first 5 rows of raw_eqk and store the data frame in a new variable\n",
    "raw_eqk_head = raw_eqk.head()"
   ]
  },
  {
   "cell_type": "code",
   "execution_count": 96,
   "metadata": {
    "tags": [
     "otter_answer_cell"
    ]
   },
   "outputs": [
    {
     "data": {
      "text/html": [
       "<div>\n",
       "<style scoped>\n",
       "    .dataframe tbody tr th:only-of-type {\n",
       "        vertical-align: middle;\n",
       "    }\n",
       "\n",
       "    .dataframe tbody tr th {\n",
       "        vertical-align: top;\n",
       "    }\n",
       "\n",
       "    .dataframe thead th {\n",
       "        text-align: right;\n",
       "    }\n",
       "</style>\n",
       "<table border=\"1\" class=\"dataframe\">\n",
       "  <thead>\n",
       "    <tr style=\"text-align: right;\">\n",
       "      <th></th>\n",
       "      <th>time</th>\n",
       "      <th>latitude</th>\n",
       "      <th>longitude</th>\n",
       "      <th>depth</th>\n",
       "      <th>mag</th>\n",
       "      <th>id</th>\n",
       "      <th>place</th>\n",
       "      <th>type</th>\n",
       "    </tr>\n",
       "  </thead>\n",
       "  <tbody>\n",
       "    <tr>\n",
       "      <th>0</th>\n",
       "      <td>2014-01-31 23:53:37.000</td>\n",
       "      <td>60.252000</td>\n",
       "      <td>-152.7081</td>\n",
       "      <td>90.20</td>\n",
       "      <td>1.10</td>\n",
       "      <td>ak11155107</td>\n",
       "      <td>26km S of Redoubt Volcano, Alaska</td>\n",
       "      <td>earthquake</td>\n",
       "    </tr>\n",
       "    <tr>\n",
       "      <th>1</th>\n",
       "      <td>2014-01-31 23:48:35.452</td>\n",
       "      <td>37.070300</td>\n",
       "      <td>-115.1309</td>\n",
       "      <td>0.00</td>\n",
       "      <td>1.33</td>\n",
       "      <td>nn00436847</td>\n",
       "      <td>32km S of Alamo, Nevada</td>\n",
       "      <td>earthquake</td>\n",
       "    </tr>\n",
       "    <tr>\n",
       "      <th>2</th>\n",
       "      <td>2014-01-31 23:47:24.000</td>\n",
       "      <td>64.671700</td>\n",
       "      <td>-149.2528</td>\n",
       "      <td>7.10</td>\n",
       "      <td>1.30</td>\n",
       "      <td>ak11151142</td>\n",
       "      <td>12km NNW of North Nenana, Alaska</td>\n",
       "      <td>earthquake</td>\n",
       "    </tr>\n",
       "    <tr>\n",
       "      <th>3</th>\n",
       "      <td>2014-01-31 23:30:54.000</td>\n",
       "      <td>63.188700</td>\n",
       "      <td>-148.9575</td>\n",
       "      <td>96.50</td>\n",
       "      <td>0.80</td>\n",
       "      <td>ak11151135</td>\n",
       "      <td>22km S of Cantwell, Alaska</td>\n",
       "      <td>earthquake</td>\n",
       "    </tr>\n",
       "    <tr>\n",
       "      <th>4</th>\n",
       "      <td>2014-01-31 23:30:52.210</td>\n",
       "      <td>32.616833</td>\n",
       "      <td>-115.6925</td>\n",
       "      <td>10.59</td>\n",
       "      <td>1.34</td>\n",
       "      <td>ci37171541</td>\n",
       "      <td>10km WNW of Progreso, Mexico</td>\n",
       "      <td>earthquake</td>\n",
       "    </tr>\n",
       "  </tbody>\n",
       "</table>\n",
       "</div>"
      ],
      "text/plain": [
       "                      time   latitude  longitude  depth   mag          id  \\\n",
       "0  2014-01-31 23:53:37.000  60.252000  -152.7081  90.20  1.10  ak11155107   \n",
       "1  2014-01-31 23:48:35.452  37.070300  -115.1309   0.00  1.33  nn00436847   \n",
       "2  2014-01-31 23:47:24.000  64.671700  -149.2528   7.10  1.30  ak11151142   \n",
       "3  2014-01-31 23:30:54.000  63.188700  -148.9575  96.50  0.80  ak11151135   \n",
       "4  2014-01-31 23:30:52.210  32.616833  -115.6925  10.59  1.34  ci37171541   \n",
       "\n",
       "                               place        type  \n",
       "0  26km S of Redoubt Volcano, Alaska  earthquake  \n",
       "1            32km S of Alamo, Nevada  earthquake  \n",
       "2   12km NNW of North Nenana, Alaska  earthquake  \n",
       "3         22km S of Cantwell, Alaska  earthquake  \n",
       "4       10km WNW of Progreso, Mexico  earthquake  "
      ]
     },
     "execution_count": 96,
     "metadata": {},
     "output_type": "execute_result"
    }
   ],
   "source": [
    "# View the dataframe\n",
    "raw_eqk_head"
   ]
  },
  {
   "cell_type": "code",
   "execution_count": 97,
   "metadata": {
    "deletable": false,
    "editable": false,
    "tags": []
   },
   "outputs": [
    {
     "data": {
      "text/html": [
       "<p><strong><pre style='display: inline;'>q1_c</pre></strong> passed! 🙌</p>"
      ],
      "text/plain": [
       "q1_c results: All test cases passed!"
      ]
     },
     "execution_count": 97,
     "metadata": {},
     "output_type": "execute_result"
    }
   ],
   "source": [
    "grader.check(\"q1_c\")"
   ]
  },
  {
   "cell_type": "markdown",
   "metadata": {
    "deletable": false,
    "editable": false
   },
   "source": [
    "## 2\n",
    "a. Print the shape of the `raw_eqk` dataframe. Store your answer in the `raw_eqk_shape` variable."
   ]
  },
  {
   "cell_type": "code",
   "execution_count": 98,
   "metadata": {
    "tags": [
     "otter_answer_cell"
    ]
   },
   "outputs": [],
   "source": [
    "# Determine the dimensions (number of rows and columns) of the data frame\n",
    "raw_eqk_shape = raw_eqk.shape"
   ]
  },
  {
   "cell_type": "code",
   "execution_count": 99,
   "metadata": {
    "deletable": false,
    "editable": false,
    "tags": []
   },
   "outputs": [
    {
     "data": {
      "text/html": [
       "<p><strong><pre style='display: inline;'>q2_a</pre></strong> passed! 🌈</p>"
      ],
      "text/plain": [
       "q2_a results: All test cases passed!"
      ]
     },
     "execution_count": 99,
     "metadata": {},
     "output_type": "execute_result"
    }
   ],
   "source": [
    "grader.check(\"q2_a\")"
   ]
  },
  {
   "cell_type": "markdown",
   "metadata": {
    "deletable": false,
    "editable": false
   },
   "source": [
    "b. Store the type of `raw_eqk`'s shape in the `raw_eqk_shape_type` variable."
   ]
  },
  {
   "cell_type": "code",
   "execution_count": 100,
   "metadata": {
    "tags": [
     "otter_answer_cell"
    ]
   },
   "outputs": [],
   "source": [
    "# Determine the type of shape object of the data frame and store in a new variable\n",
    "raw_eqk_shape_type = type(raw_eqk.shape)"
   ]
  },
  {
   "cell_type": "code",
   "execution_count": 101,
   "metadata": {
    "tags": [
     "otter_answer_cell"
    ]
   },
   "outputs": [
    {
     "data": {
      "text/plain": [
       "tuple"
      ]
     },
     "execution_count": 101,
     "metadata": {},
     "output_type": "execute_result"
    }
   ],
   "source": [
    "# View the dataframe\n",
    "raw_eqk_shape_type"
   ]
  },
  {
   "cell_type": "code",
   "execution_count": 102,
   "metadata": {
    "deletable": false,
    "editable": false,
    "tags": []
   },
   "outputs": [
    {
     "data": {
      "text/html": [
       "<p><strong><pre style='display: inline;'>q2_b</pre></strong> passed! 🍀</p>"
      ],
      "text/plain": [
       "q2_b results: All test cases passed!"
      ]
     },
     "execution_count": 102,
     "metadata": {},
     "output_type": "execute_result"
    }
   ],
   "source": [
    "grader.check(\"q2_b\")"
   ]
  },
  {
   "cell_type": "markdown",
   "metadata": {
    "deletable": false,
    "editable": false
   },
   "source": [
    "c. Extract *only* the number of rows by accessing it from `raw_eqk`'s shape.Store your answer in the `num_rows` variable.  HINT: how do you index an element in a tuple?"
   ]
  },
  {
   "cell_type": "code",
   "execution_count": 103,
   "metadata": {
    "tags": [
     "otter_answer_cell"
    ]
   },
   "outputs": [],
   "source": [
    "# Select only the rows of the data frame shape by indexing 0 (1 refers to columns)\n",
    "num_rows = raw_eqk.shape[0]"
   ]
  },
  {
   "cell_type": "code",
   "execution_count": 104,
   "metadata": {
    "deletable": false,
    "editable": false,
    "tags": []
   },
   "outputs": [
    {
     "data": {
      "text/html": [
       "<p><strong><pre style='display: inline;'>q2_c</pre></strong> passed! ✨</p>"
      ],
      "text/plain": [
       "q2_c results: All test cases passed!"
      ]
     },
     "execution_count": 104,
     "metadata": {},
     "output_type": "execute_result"
    }
   ],
   "source": [
    "grader.check(\"q2_c\")"
   ]
  },
  {
   "cell_type": "markdown",
   "metadata": {
    "deletable": false,
    "editable": false
   },
   "source": [
    "## 3\n",
    "\n",
    "Get the unique values of the type of events. Store your answer in the `unique_events` variable."
   ]
  },
  {
   "cell_type": "code",
   "execution_count": 105,
   "metadata": {
    "tags": [
     "otter_answer_cell"
    ]
   },
   "outputs": [],
   "source": [
    "unique_events = raw_eqk[\"type\"].unique()"
   ]
  },
  {
   "cell_type": "code",
   "execution_count": 106,
   "metadata": {
    "deletable": false,
    "editable": false,
    "tags": []
   },
   "outputs": [
    {
     "data": {
      "text/html": [
       "<p><strong><pre style='display: inline;'>q3</pre></strong> passed! ✨</p>"
      ],
      "text/plain": [
       "q3 results: All test cases passed!"
      ]
     },
     "execution_count": 106,
     "metadata": {},
     "output_type": "execute_result"
    }
   ],
   "source": [
    "grader.check(\"q3\")"
   ]
  },
  {
   "cell_type": "markdown",
   "metadata": {
    "deletable": false,
    "editable": false
   },
   "source": [
    "# 4\n",
    "\n",
    "a. Select only earthquake events and store them as `eqk` (variable name). Update the index of `eqk` to be the `id` column of the dataframe. "
   ]
  },
  {
   "cell_type": "code",
   "execution_count": 50,
   "metadata": {
    "tags": [
     "otter_answer_cell"
    ]
   },
   "outputs": [],
   "source": [
    "eqk = ..."
   ]
  },
  {
   "cell_type": "code",
   "execution_count": 51,
   "metadata": {
    "tags": [
     "otter_answer_cell"
    ]
   },
   "outputs": [
    {
     "data": {
      "text/plain": [
       "Ellipsis"
      ]
     },
     "execution_count": 51,
     "metadata": {},
     "output_type": "execute_result"
    }
   ],
   "source": [
    "# View the dataframe\n",
    "eqk"
   ]
  },
  {
   "cell_type": "code",
   "execution_count": 52,
   "metadata": {
    "deletable": false,
    "editable": false
   },
   "outputs": [
    {
     "data": {
      "text/html": [
       "<p><strong style='color: red;'><pre style='display: inline;'>q4_a</pre> results:</strong></p><p><strong><pre style='display: inline;'>q4_a - 1</pre> result:</strong></p><pre>    ❌ Test case failed\n",
       "    Trying:\n",
       "        assert pd.read_csv('data/t3_q4a_df.csv', index_col=0).equals(eqk)\n",
       "    Expecting nothing\n",
       "    **********************************************************************\n",
       "    Line 1, in q4_a 0\n",
       "    Failed example:\n",
       "        assert pd.read_csv('data/t3_q4a_df.csv', index_col=0).equals(eqk)\n",
       "    Exception raised:\n",
       "        Traceback (most recent call last):\n",
       "          File \"/opt/anaconda3/envs/eds220-env/lib/python3.11/doctest.py\", line 1351, in __run\n",
       "            exec(compile(example.source, filename, \"single\",\n",
       "          File \"<doctest q4_a 0[0]>\", line 1, in <module>\n",
       "            assert pd.read_csv('data/t3_q4a_df.csv', index_col=0).equals(eqk)\n",
       "        AssertionError\n",
       "</pre>"
      ],
      "text/plain": [
       "q4_a results:\n",
       "    q4_a - 1 result:\n",
       "        ❌ Test case failed\n",
       "        Trying:\n",
       "            assert pd.read_csv('data/t3_q4a_df.csv', index_col=0).equals(eqk)\n",
       "        Expecting nothing\n",
       "        **********************************************************************\n",
       "        Line 1, in q4_a 0\n",
       "        Failed example:\n",
       "            assert pd.read_csv('data/t3_q4a_df.csv', index_col=0).equals(eqk)\n",
       "        Exception raised:\n",
       "            Traceback (most recent call last):\n",
       "              File \"/opt/anaconda3/envs/eds220-env/lib/python3.11/doctest.py\", line 1351, in __run\n",
       "                exec(compile(example.source, filename, \"single\",\n",
       "              File \"<doctest q4_a 0[0]>\", line 1, in <module>\n",
       "                assert pd.read_csv('data/t3_q4a_df.csv', index_col=0).equals(eqk)\n",
       "            AssertionError"
      ]
     },
     "execution_count": 52,
     "metadata": {},
     "output_type": "execute_result"
    }
   ],
   "source": [
    "grader.check(\"q4_a\")"
   ]
  },
  {
   "cell_type": "markdown",
   "metadata": {
    "deletable": false,
    "editable": false
   },
   "source": [
    "b. Check the new index by viewing the first 3 rows of `eqk`. Store your results in the `eqk_3` variable. "
   ]
  },
  {
   "cell_type": "code",
   "execution_count": 53,
   "metadata": {
    "tags": [
     "otter_answer_cell"
    ]
   },
   "outputs": [],
   "source": [
    "eqk_3 = ..."
   ]
  },
  {
   "cell_type": "code",
   "execution_count": 54,
   "metadata": {
    "tags": [
     "otter_answer_cell"
    ]
   },
   "outputs": [
    {
     "data": {
      "text/plain": [
       "Ellipsis"
      ]
     },
     "execution_count": 54,
     "metadata": {},
     "output_type": "execute_result"
    }
   ],
   "source": [
    "# View the dataframe\n",
    "eqk_3"
   ]
  },
  {
   "cell_type": "code",
   "execution_count": 55,
   "metadata": {
    "deletable": false,
    "editable": false
   },
   "outputs": [
    {
     "data": {
      "text/html": [
       "<p><strong style='color: red;'><pre style='display: inline;'>q4_b</pre> results:</strong></p><p><strong><pre style='display: inline;'>q4_b - 1</pre> result:</strong></p><pre>    ❌ Test case failed\n",
       "    Trying:\n",
       "        assert pd.read_csv('data/t3_q4b_df.csv', index_col=0).equals(eqk_3)\n",
       "    Expecting nothing\n",
       "    **********************************************************************\n",
       "    Line 1, in q4_b 0\n",
       "    Failed example:\n",
       "        assert pd.read_csv('data/t3_q4b_df.csv', index_col=0).equals(eqk_3)\n",
       "    Exception raised:\n",
       "        Traceback (most recent call last):\n",
       "          File \"/opt/anaconda3/envs/eds220-env/lib/python3.11/doctest.py\", line 1351, in __run\n",
       "            exec(compile(example.source, filename, \"single\",\n",
       "          File \"<doctest q4_b 0[0]>\", line 1, in <module>\n",
       "            assert pd.read_csv('data/t3_q4b_df.csv', index_col=0).equals(eqk_3)\n",
       "        AssertionError\n",
       "</pre>"
      ],
      "text/plain": [
       "q4_b results:\n",
       "    q4_b - 1 result:\n",
       "        ❌ Test case failed\n",
       "        Trying:\n",
       "            assert pd.read_csv('data/t3_q4b_df.csv', index_col=0).equals(eqk_3)\n",
       "        Expecting nothing\n",
       "        **********************************************************************\n",
       "        Line 1, in q4_b 0\n",
       "        Failed example:\n",
       "            assert pd.read_csv('data/t3_q4b_df.csv', index_col=0).equals(eqk_3)\n",
       "        Exception raised:\n",
       "            Traceback (most recent call last):\n",
       "              File \"/opt/anaconda3/envs/eds220-env/lib/python3.11/doctest.py\", line 1351, in __run\n",
       "                exec(compile(example.source, filename, \"single\",\n",
       "              File \"<doctest q4_b 0[0]>\", line 1, in <module>\n",
       "                assert pd.read_csv('data/t3_q4b_df.csv', index_col=0).equals(eqk_3)\n",
       "            AssertionError"
      ]
     },
     "execution_count": 55,
     "metadata": {},
     "output_type": "execute_result"
    }
   ],
   "source": [
    "grader.check(\"q4_b\")"
   ]
  },
  {
   "cell_type": "markdown",
   "metadata": {
    "deletable": false,
    "editable": false
   },
   "source": [
    "# 5\n",
    "\n",
    "How many events were left out of `raw_eqk` when you selected ony earthqake events? Store your answer in the `omitted_events` variable. \n",
    "\n",
    "HINT: There are *many* ways you can get this information. One could be to use (2). "
   ]
  },
  {
   "cell_type": "code",
   "execution_count": 56,
   "metadata": {
    "tags": [
     "otter_answer_cell"
    ]
   },
   "outputs": [],
   "source": [
    "omitted_events = ..."
   ]
  },
  {
   "cell_type": "code",
   "execution_count": 57,
   "metadata": {
    "deletable": false,
    "editable": false
   },
   "outputs": [
    {
     "data": {
      "text/html": [
       "<p><strong style='color: red;'><pre style='display: inline;'>q5</pre> results:</strong></p><p><strong><pre style='display: inline;'>q5 - 1</pre> result:</strong></p><pre>    ❌ Test case failed\n",
       "    Trying:\n",
       "        omitted_events == 1710\n",
       "    Expecting:\n",
       "        True\n",
       "    **********************************************************************\n",
       "    Line 1, in q5 0\n",
       "    Failed example:\n",
       "        omitted_events == 1710\n",
       "    Expected:\n",
       "        True\n",
       "    Got:\n",
       "        False\n",
       "</pre>"
      ],
      "text/plain": [
       "q5 results:\n",
       "    q5 - 1 result:\n",
       "        ❌ Test case failed\n",
       "        Trying:\n",
       "            omitted_events == 1710\n",
       "        Expecting:\n",
       "            True\n",
       "        **********************************************************************\n",
       "        Line 1, in q5 0\n",
       "        Failed example:\n",
       "            omitted_events == 1710\n",
       "        Expected:\n",
       "            True\n",
       "        Got:\n",
       "            False"
      ]
     },
     "execution_count": 57,
     "metadata": {},
     "output_type": "execute_result"
    }
   ],
   "source": [
    "grader.check(\"q5\")"
   ]
  },
  {
   "cell_type": "markdown",
   "metadata": {
    "deletable": false,
    "editable": false
   },
   "source": [
    "<!-- BEGIN QUESTION -->\n",
    "\n",
    "# 6\n",
    "Without creating any new variables, plot a histogram of the eartquake's magnitudes (`eqk` data). Add a title and change the color of your graph."
   ]
  },
  {
   "cell_type": "code",
   "execution_count": null,
   "metadata": {
    "tags": [
     "otter_answer_cell"
    ]
   },
   "outputs": [],
   "source": []
  },
  {
   "cell_type": "markdown",
   "metadata": {
    "deletable": false,
    "editable": false
   },
   "source": [
    "<!-- END QUESTION -->\n",
    "\n",
    "# 7\n",
    "\n",
    "a. Create a new variable `top20` with the 20 earthquakes with largest magnitude. HINT: check the method [`pandas.Series.nlargest`](https://pandas.pydata.org/docs/reference/api/pandas.Series.nlargest.html). Your answer should contain only the `id` and `mag` columns. "
   ]
  },
  {
   "cell_type": "code",
   "execution_count": 58,
   "metadata": {
    "tags": [
     "otter_answer_cell"
    ]
   },
   "outputs": [],
   "source": [
    "top20 = ..."
   ]
  },
  {
   "cell_type": "code",
   "execution_count": 59,
   "metadata": {
    "tags": [
     "otter_answer_cell"
    ]
   },
   "outputs": [
    {
     "data": {
      "text/plain": [
       "Ellipsis"
      ]
     },
     "execution_count": 59,
     "metadata": {},
     "output_type": "execute_result"
    }
   ],
   "source": [
    "# View the dataframe \n",
    "top20"
   ]
  },
  {
   "cell_type": "code",
   "execution_count": 60,
   "metadata": {
    "deletable": false,
    "editable": false
   },
   "outputs": [
    {
     "data": {
      "text/html": [
       "<p><strong style='color: red;'><pre style='display: inline;'>q7_a</pre> results:</strong></p><p><strong><pre style='display: inline;'>q7_a - 1</pre> result:</strong></p><pre>    ❌ Test case failed\n",
       "    Trying:\n",
       "        assert pd.read_csv('data/t3_q7a_df.csv', index_col=0).equals(pd.DataFrame(top20))\n",
       "    Expecting nothing\n",
       "    **********************************************************************\n",
       "    Line 1, in q7_a 0\n",
       "    Failed example:\n",
       "        assert pd.read_csv('data/t3_q7a_df.csv', index_col=0).equals(pd.DataFrame(top20))\n",
       "    Exception raised:\n",
       "        Traceback (most recent call last):\n",
       "          File \"/opt/anaconda3/envs/eds220-env/lib/python3.11/doctest.py\", line 1351, in __run\n",
       "            exec(compile(example.source, filename, \"single\",\n",
       "          File \"<doctest q7_a 0[0]>\", line 1, in <module>\n",
       "            assert pd.read_csv('data/t3_q7a_df.csv', index_col=0).equals(pd.DataFrame(top20))\n",
       "                                                                         ^^^^^^^^^^^^^^^^^^^\n",
       "          File \"/opt/anaconda3/envs/eds220-env/lib/python3.11/site-packages/pandas/core/frame.py\", line 886, in __init__\n",
       "            raise ValueError(\"DataFrame constructor not properly called!\")\n",
       "        ValueError: DataFrame constructor not properly called!\n",
       "</pre>"
      ],
      "text/plain": [
       "q7_a results:\n",
       "    q7_a - 1 result:\n",
       "        ❌ Test case failed\n",
       "        Trying:\n",
       "            assert pd.read_csv('data/t3_q7a_df.csv', index_col=0).equals(pd.DataFrame(top20))\n",
       "        Expecting nothing\n",
       "        **********************************************************************\n",
       "        Line 1, in q7_a 0\n",
       "        Failed example:\n",
       "            assert pd.read_csv('data/t3_q7a_df.csv', index_col=0).equals(pd.DataFrame(top20))\n",
       "        Exception raised:\n",
       "            Traceback (most recent call last):\n",
       "              File \"/opt/anaconda3/envs/eds220-env/lib/python3.11/doctest.py\", line 1351, in __run\n",
       "                exec(compile(example.source, filename, \"single\",\n",
       "              File \"<doctest q7_a 0[0]>\", line 1, in <module>\n",
       "                assert pd.read_csv('data/t3_q7a_df.csv', index_col=0).equals(pd.DataFrame(top20))\n",
       "                                                                             ^^^^^^^^^^^^^^^^^^^\n",
       "              File \"/opt/anaconda3/envs/eds220-env/lib/python3.11/site-packages/pandas/core/frame.py\", line 886, in __init__\n",
       "                raise ValueError(\"DataFrame constructor not properly called!\")\n",
       "            ValueError: DataFrame constructor not properly called!"
      ]
     },
     "execution_count": 60,
     "metadata": {},
     "output_type": "execute_result"
    }
   ],
   "source": [
    "grader.check(\"q7_a\")"
   ]
  },
  {
   "cell_type": "markdown",
   "metadata": {
    "deletable": false,
    "editable": false
   },
   "source": [
    "<!-- BEGIN QUESTION -->\n",
    "\n",
    "b. Create a bar plot showing the magnitude of the top 20 earthquakes. Update the title, x-axis label, y-axis label, and color of the bars. "
   ]
  },
  {
   "cell_type": "code",
   "execution_count": null,
   "metadata": {
    "tags": [
     "otter_answer_cell"
    ]
   },
   "outputs": [],
   "source": []
  },
  {
   "cell_type": "markdown",
   "metadata": {
    "deletable": false,
    "editable": false
   },
   "source": [
    "<!-- END QUESTION -->\n",
    "\n",
    "<!-- BEGIN QUESTION -->\n",
    "\n",
    "c. What is the role of the `top20` index in the graph? What would have happened if we had not updated the index?"
   ]
  },
  {
   "cell_type": "markdown",
   "metadata": {
    "tags": [
     "otter_answer_cell"
    ]
   },
   "source": [
    "_Type your answer here, replacing this text._"
   ]
  },
  {
   "cell_type": "markdown",
   "metadata": {
    "deletable": false,
    "editable": false
   },
   "source": [
    "<!-- END QUESTION -->\n",
    "\n",
    "# 8 \n",
    "We are interested in the place, magnitude, and depth of the top 20 earthquakes with largest magnitude. Select this data from the `eqk` data frame. Store your answer in the `top20_filtered` variable. \n",
    "\n",
    "HINT: This is a \"select rows and columns simultaneously\" from `eqk` exercise. To select the rows you could use the index of `top20`. Make sure your columns are in the following order to pass the test: `place`, `mag`, `depth`. "
   ]
  },
  {
   "cell_type": "code",
   "execution_count": 61,
   "metadata": {
    "tags": [
     "otter_answer_cell"
    ]
   },
   "outputs": [],
   "source": [
    "top20_filtered = ..."
   ]
  },
  {
   "cell_type": "code",
   "execution_count": 62,
   "metadata": {
    "tags": [
     "otter_answer_cell"
    ]
   },
   "outputs": [
    {
     "data": {
      "text/plain": [
       "Ellipsis"
      ]
     },
     "execution_count": 62,
     "metadata": {},
     "output_type": "execute_result"
    }
   ],
   "source": [
    "# View the dataframe\n",
    "top20_filtered"
   ]
  },
  {
   "cell_type": "code",
   "execution_count": 63,
   "metadata": {
    "deletable": false,
    "editable": false
   },
   "outputs": [
    {
     "data": {
      "text/html": [
       "<p><strong style='color: red;'><pre style='display: inline;'>q8</pre> results:</strong></p><p><strong><pre style='display: inline;'>q8 - 1</pre> result:</strong></p><pre>    ❌ Test case failed\n",
       "    Trying:\n",
       "        assert pd.read_csv('data/t3_q8_df.csv', index_col=0).equals(top20_filtered)\n",
       "    Expecting nothing\n",
       "    **********************************************************************\n",
       "    Line 1, in q8 0\n",
       "    Failed example:\n",
       "        assert pd.read_csv('data/t3_q8_df.csv', index_col=0).equals(top20_filtered)\n",
       "    Exception raised:\n",
       "        Traceback (most recent call last):\n",
       "          File \"/opt/anaconda3/envs/eds220-env/lib/python3.11/doctest.py\", line 1351, in __run\n",
       "            exec(compile(example.source, filename, \"single\",\n",
       "          File \"<doctest q8 0[0]>\", line 1, in <module>\n",
       "            assert pd.read_csv('data/t3_q8_df.csv', index_col=0).equals(top20_filtered)\n",
       "        AssertionError\n",
       "</pre>"
      ],
      "text/plain": [
       "q8 results:\n",
       "    q8 - 1 result:\n",
       "        ❌ Test case failed\n",
       "        Trying:\n",
       "            assert pd.read_csv('data/t3_q8_df.csv', index_col=0).equals(top20_filtered)\n",
       "        Expecting nothing\n",
       "        **********************************************************************\n",
       "        Line 1, in q8 0\n",
       "        Failed example:\n",
       "            assert pd.read_csv('data/t3_q8_df.csv', index_col=0).equals(top20_filtered)\n",
       "        Exception raised:\n",
       "            Traceback (most recent call last):\n",
       "              File \"/opt/anaconda3/envs/eds220-env/lib/python3.11/doctest.py\", line 1351, in __run\n",
       "                exec(compile(example.source, filename, \"single\",\n",
       "              File \"<doctest q8 0[0]>\", line 1, in <module>\n",
       "                assert pd.read_csv('data/t3_q8_df.csv', index_col=0).equals(top20_filtered)\n",
       "            AssertionError"
      ]
     },
     "execution_count": 63,
     "metadata": {},
     "output_type": "execute_result"
    }
   ],
   "source": [
    "grader.check(\"q8\")"
   ]
  },
  {
   "cell_type": "markdown",
   "metadata": {
    "deletable": false,
    "editable": false
   },
   "source": [
    "<!-- BEGIN QUESTION -->\n",
    "\n",
    "# 9 \n",
    "\n",
    "Without creating any new variables, visualize the locations of eartquakes with magnitude greter than 5 by creating a scatter plot of their latitude and longitude. Make the following adjustments to the basic plot:\n",
    "- update the title\n",
    "- color the points by magnitude (HINT: [check the `c` parameter here](https://pandas.pydata.org/pandas-docs/stable/reference/api/pandas.DataFrame.plot.scatter.html))\n",
    "- adjust the `alpha` (transparency) argument\n",
    "- adjust the `colormap` argument to maket it look prettier. [Click for ideas of sequential colormaps.](https://matplotlib.org/stable/users/explain/colors/colormaps.html)\n"
   ]
  },
  {
   "cell_type": "code",
   "execution_count": null,
   "metadata": {
    "tags": [
     "otter_answer_cell"
    ]
   },
   "outputs": [],
   "source": []
  },
  {
   "cell_type": "markdown",
   "metadata": {},
   "source": [
    "---\n",
    "\n",
    "To double-check your work, the cell below will rerun all of the autograder tests."
   ]
  },
  {
   "cell_type": "code",
   "execution_count": 64,
   "metadata": {},
   "outputs": [
    {
     "data": {
      "text/plain": [
       "q1_c results: All test cases passed!\n",
       "\n",
       "q2_a results: All test cases passed!\n",
       "\n",
       "q2_b results: All test cases passed!\n",
       "\n",
       "q2_c results: All test cases passed!\n",
       "\n",
       "q3 results:\n",
       "    q3 - 1 result:\n",
       "        ❌ Test case failed\n",
       "        Trying:\n",
       "            unique_events.tolist() == list(raw_eqk.type.unique())\n",
       "        Expecting:\n",
       "            True\n",
       "        **********************************************************************\n",
       "        Line 1, in q3 0\n",
       "        Failed example:\n",
       "            unique_events.tolist() == list(raw_eqk.type.unique())\n",
       "        Exception raised:\n",
       "            Traceback (most recent call last):\n",
       "              File \"/opt/anaconda3/envs/eds220-env/lib/python3.11/doctest.py\", line 1351, in __run\n",
       "                exec(compile(example.source, filename, \"single\",\n",
       "              File \"<doctest q3 0[0]>\", line 1, in <module>\n",
       "                unique_events.tolist() == list(raw_eqk.type.unique())\n",
       "                ^^^^^^^^^^^^^^^^^^^^\n",
       "            AttributeError: 'int' object has no attribute 'tolist'\n",
       "\n",
       "q4_a results:\n",
       "    q4_a - 1 result:\n",
       "        ❌ Test case failed\n",
       "        Trying:\n",
       "            assert pd.read_csv('data/t3_q4a_df.csv', index_col=0).equals(eqk)\n",
       "        Expecting nothing\n",
       "        **********************************************************************\n",
       "        Line 1, in q4_a 0\n",
       "        Failed example:\n",
       "            assert pd.read_csv('data/t3_q4a_df.csv', index_col=0).equals(eqk)\n",
       "        Exception raised:\n",
       "            Traceback (most recent call last):\n",
       "              File \"/opt/anaconda3/envs/eds220-env/lib/python3.11/doctest.py\", line 1351, in __run\n",
       "                exec(compile(example.source, filename, \"single\",\n",
       "              File \"<doctest q4_a 0[0]>\", line 1, in <module>\n",
       "                assert pd.read_csv('data/t3_q4a_df.csv', index_col=0).equals(eqk)\n",
       "            AssertionError\n",
       "\n",
       "q4_b results:\n",
       "    q4_b - 1 result:\n",
       "        ❌ Test case failed\n",
       "        Trying:\n",
       "            assert pd.read_csv('data/t3_q4b_df.csv', index_col=0).equals(eqk_3)\n",
       "        Expecting nothing\n",
       "        **********************************************************************\n",
       "        Line 1, in q4_b 0\n",
       "        Failed example:\n",
       "            assert pd.read_csv('data/t3_q4b_df.csv', index_col=0).equals(eqk_3)\n",
       "        Exception raised:\n",
       "            Traceback (most recent call last):\n",
       "              File \"/opt/anaconda3/envs/eds220-env/lib/python3.11/doctest.py\", line 1351, in __run\n",
       "                exec(compile(example.source, filename, \"single\",\n",
       "              File \"<doctest q4_b 0[0]>\", line 1, in <module>\n",
       "                assert pd.read_csv('data/t3_q4b_df.csv', index_col=0).equals(eqk_3)\n",
       "            AssertionError\n",
       "\n",
       "q5 results:\n",
       "    q5 - 1 result:\n",
       "        ❌ Test case failed\n",
       "        Trying:\n",
       "            omitted_events == 1710\n",
       "        Expecting:\n",
       "            True\n",
       "        **********************************************************************\n",
       "        Line 1, in q5 0\n",
       "        Failed example:\n",
       "            omitted_events == 1710\n",
       "        Expected:\n",
       "            True\n",
       "        Got:\n",
       "            False\n",
       "\n",
       "q7_a results:\n",
       "    q7_a - 1 result:\n",
       "        ❌ Test case failed\n",
       "        Trying:\n",
       "            assert pd.read_csv('data/t3_q7a_df.csv', index_col=0).equals(pd.DataFrame(top20))\n",
       "        Expecting nothing\n",
       "        **********************************************************************\n",
       "        Line 1, in q7_a 0\n",
       "        Failed example:\n",
       "            assert pd.read_csv('data/t3_q7a_df.csv', index_col=0).equals(pd.DataFrame(top20))\n",
       "        Exception raised:\n",
       "            Traceback (most recent call last):\n",
       "              File \"/opt/anaconda3/envs/eds220-env/lib/python3.11/doctest.py\", line 1351, in __run\n",
       "                exec(compile(example.source, filename, \"single\",\n",
       "              File \"<doctest q7_a 0[0]>\", line 1, in <module>\n",
       "                assert pd.read_csv('data/t3_q7a_df.csv', index_col=0).equals(pd.DataFrame(top20))\n",
       "                                                                             ^^^^^^^^^^^^^^^^^^^\n",
       "              File \"/opt/anaconda3/envs/eds220-env/lib/python3.11/site-packages/pandas/core/frame.py\", line 886, in __init__\n",
       "                raise ValueError(\"DataFrame constructor not properly called!\")\n",
       "            ValueError: DataFrame constructor not properly called!\n",
       "\n",
       "q8 results:\n",
       "    q8 - 1 result:\n",
       "        ❌ Test case failed\n",
       "        Trying:\n",
       "            assert pd.read_csv('data/t3_q8_df.csv', index_col=0).equals(top20_filtered)\n",
       "        Expecting nothing\n",
       "        **********************************************************************\n",
       "        Line 1, in q8 0\n",
       "        Failed example:\n",
       "            assert pd.read_csv('data/t3_q8_df.csv', index_col=0).equals(top20_filtered)\n",
       "        Exception raised:\n",
       "            Traceback (most recent call last):\n",
       "              File \"/opt/anaconda3/envs/eds220-env/lib/python3.11/doctest.py\", line 1351, in __run\n",
       "                exec(compile(example.source, filename, \"single\",\n",
       "              File \"<doctest q8 0[0]>\", line 1, in <module>\n",
       "                assert pd.read_csv('data/t3_q8_df.csv', index_col=0).equals(top20_filtered)\n",
       "            AssertionError"
      ]
     },
     "execution_count": 64,
     "metadata": {},
     "output_type": "execute_result"
    }
   ],
   "source": [
    "grader.check_all()"
   ]
  },
  {
   "cell_type": "markdown",
   "metadata": {
    "deletable": false,
    "editable": false
   },
   "source": [
    "<!-- END QUESTION -->\n",
    "\n"
   ]
  }
 ],
 "metadata": {
  "kernelspec": {
   "display_name": "EDS220",
   "language": "python",
   "name": "eds220-env"
  },
  "language_info": {
   "codemirror_mode": {
    "name": "ipython",
    "version": 3
   },
   "file_extension": ".py",
   "mimetype": "text/x-python",
   "name": "python",
   "nbconvert_exporter": "python",
   "pygments_lexer": "ipython3",
   "version": "3.11.4"
  },
  "vscode": {
   "interpreter": {
    "hash": "fd47fb98a7ce7f6a10c657f2a810bfb9d752313f8f3dd9c5b44bfbb724ce30e0"
   }
  }
 },
 "nbformat": 4,
 "nbformat_minor": 4
}
